{
 "cells": [
  {
   "cell_type": "code",
   "execution_count": 1,
   "metadata": {
    "collapsed": true,
    "pycharm": {
     "is_executing": false
    }
   },
   "outputs": [],
   "source": [
    "import numpy as np\n",
    "import pandas as pd\n",
    "import seaborn as sns\n"
   ]
  },
  {
   "cell_type": "code",
   "execution_count": 2,
   "outputs": [
    {
     "data": {
      "text/plain": "   Unnamed: 0  Months since Last Donation  Number of Donations  \\\n0         619                           2                   50   \n1         664                           0                   13   \n2         441                           1                   16   \n3         160                           2                   20   \n4         358                           1                   24   \n\n   Total Volume Donated (c.c.)  Months since First Donation  \\\n0                        12500                           98   \n1                         3250                           28   \n2                         4000                           35   \n3                         5000                           45   \n4                         6000                           77   \n\n   Made Donation in March 2007  \n0                            1  \n1                            1  \n2                            1  \n3                            1  \n4                            0  ",
      "text/html": "<div>\n<style scoped>\n    .dataframe tbody tr th:only-of-type {\n        vertical-align: middle;\n    }\n\n    .dataframe tbody tr th {\n        vertical-align: top;\n    }\n\n    .dataframe thead th {\n        text-align: right;\n    }\n</style>\n<table border=\"1\" class=\"dataframe\">\n  <thead>\n    <tr style=\"text-align: right;\">\n      <th></th>\n      <th>Unnamed: 0</th>\n      <th>Months since Last Donation</th>\n      <th>Number of Donations</th>\n      <th>Total Volume Donated (c.c.)</th>\n      <th>Months since First Donation</th>\n      <th>Made Donation in March 2007</th>\n    </tr>\n  </thead>\n  <tbody>\n    <tr>\n      <th>0</th>\n      <td>619</td>\n      <td>2</td>\n      <td>50</td>\n      <td>12500</td>\n      <td>98</td>\n      <td>1</td>\n    </tr>\n    <tr>\n      <th>1</th>\n      <td>664</td>\n      <td>0</td>\n      <td>13</td>\n      <td>3250</td>\n      <td>28</td>\n      <td>1</td>\n    </tr>\n    <tr>\n      <th>2</th>\n      <td>441</td>\n      <td>1</td>\n      <td>16</td>\n      <td>4000</td>\n      <td>35</td>\n      <td>1</td>\n    </tr>\n    <tr>\n      <th>3</th>\n      <td>160</td>\n      <td>2</td>\n      <td>20</td>\n      <td>5000</td>\n      <td>45</td>\n      <td>1</td>\n    </tr>\n    <tr>\n      <th>4</th>\n      <td>358</td>\n      <td>1</td>\n      <td>24</td>\n      <td>6000</td>\n      <td>77</td>\n      <td>0</td>\n    </tr>\n  </tbody>\n</table>\n</div>"
     },
     "metadata": {},
     "output_type": "execute_result",
     "execution_count": 2
    }
   ],
   "source": [
    "data = pd.read_csv('input/Donate-blood/blood-train.csv')\n",
    "\n",
    "data.head()\n"
   ],
   "metadata": {
    "collapsed": false,
    "pycharm": {
     "name": "#%%\n",
     "is_executing": false
    }
   }
  },
  {
   "cell_type": "code",
   "execution_count": 3,
   "outputs": [
    {
     "data": {
      "text/plain": "   Unnamed: 0  Months since Last Donation  Number of Donations  \\\n0         659                           2                   12   \n1         276                          21                    7   \n2         263                           4                    1   \n3         303                          11                   11   \n4          83                           4                   12   \n\n   Total Volume Donated (c.c.)  Months since First Donation  \n0                         3000                           52  \n1                         1750                           38  \n2                          250                            4  \n3                         2750                           38  \n4                         3000                           34  ",
      "text/html": "<div>\n<style scoped>\n    .dataframe tbody tr th:only-of-type {\n        vertical-align: middle;\n    }\n\n    .dataframe tbody tr th {\n        vertical-align: top;\n    }\n\n    .dataframe thead th {\n        text-align: right;\n    }\n</style>\n<table border=\"1\" class=\"dataframe\">\n  <thead>\n    <tr style=\"text-align: right;\">\n      <th></th>\n      <th>Unnamed: 0</th>\n      <th>Months since Last Donation</th>\n      <th>Number of Donations</th>\n      <th>Total Volume Donated (c.c.)</th>\n      <th>Months since First Donation</th>\n    </tr>\n  </thead>\n  <tbody>\n    <tr>\n      <th>0</th>\n      <td>659</td>\n      <td>2</td>\n      <td>12</td>\n      <td>3000</td>\n      <td>52</td>\n    </tr>\n    <tr>\n      <th>1</th>\n      <td>276</td>\n      <td>21</td>\n      <td>7</td>\n      <td>1750</td>\n      <td>38</td>\n    </tr>\n    <tr>\n      <th>2</th>\n      <td>263</td>\n      <td>4</td>\n      <td>1</td>\n      <td>250</td>\n      <td>4</td>\n    </tr>\n    <tr>\n      <th>3</th>\n      <td>303</td>\n      <td>11</td>\n      <td>11</td>\n      <td>2750</td>\n      <td>38</td>\n    </tr>\n    <tr>\n      <th>4</th>\n      <td>83</td>\n      <td>4</td>\n      <td>12</td>\n      <td>3000</td>\n      <td>34</td>\n    </tr>\n  </tbody>\n</table>\n</div>"
     },
     "metadata": {},
     "output_type": "execute_result",
     "execution_count": 3
    }
   ],
   "source": [
    "test = pd.read_csv('input/Donate-blood/blood-test.csv')\n",
    "test.head()"
   ],
   "metadata": {
    "collapsed": false,
    "pycharm": {
     "name": "#%%\n",
     "is_executing": false
    }
   }
  },
  {
   "cell_type": "code",
   "execution_count": 4,
   "outputs": [
    {
     "data": {
      "text/plain": "((576, 6), (200, 5))"
     },
     "metadata": {},
     "output_type": "execute_result",
     "execution_count": 4
    }
   ],
   "source": [
    "data.shape, test.shape"
   ],
   "metadata": {
    "collapsed": false,
    "pycharm": {
     "name": "#%%\n",
     "is_executing": false
    }
   }
  },
  {
   "cell_type": "code",
   "execution_count": 5,
   "outputs": [
    {
     "name": "stdout",
     "text": [
      "<class 'pandas.core.frame.DataFrame'>\n",
      "RangeIndex: 576 entries, 0 to 575\n",
      "Data columns (total 6 columns):\n",
      " #   Column                       Non-Null Count  Dtype\n",
      "---  ------                       --------------  -----\n",
      " 0   Unnamed: 0                   576 non-null    int64\n",
      " 1   Months since Last Donation   576 non-null    int64\n",
      " 2   Number of Donations          576 non-null    int64\n",
      " 3   Total Volume Donated (c.c.)  576 non-null    int64\n",
      " 4   Months since First Donation  576 non-null    int64\n",
      " 5   Made Donation in March 2007  576 non-null    int64\n",
      "dtypes: int64(6)\n",
      "memory usage: 27.1 KB\n",
      "<class 'pandas.core.frame.DataFrame'>\n",
      "RangeIndex: 200 entries, 0 to 199\n",
      "Data columns (total 5 columns):\n",
      " #   Column                       Non-Null Count  Dtype\n",
      "---  ------                       --------------  -----\n",
      " 0   Unnamed: 0                   200 non-null    int64\n",
      " 1   Months since Last Donation   200 non-null    int64\n",
      " 2   Number of Donations          200 non-null    int64\n",
      " 3   Total Volume Donated (c.c.)  200 non-null    int64\n",
      " 4   Months since First Donation  200 non-null    int64\n",
      "dtypes: int64(5)\n",
      "memory usage: 7.9 KB\n"
     ],
     "output_type": "stream"
    }
   ],
   "source": [
    "data.info()\n",
    "test.info()\n"
   ],
   "metadata": {
    "collapsed": false,
    "pycharm": {
     "name": "#%%\n",
     "is_executing": false
    }
   }
  },
  {
   "cell_type": "markdown",
   "source": [
    "## Vi kan se der ikke er nogen manglende værdier"
   ],
   "metadata": {
    "collapsed": false,
    "pycharm": {
     "name": "#%% md\n"
    }
   }
  },
  {
   "cell_type": "code",
   "execution_count": 6,
   "outputs": [
    {
     "data": {
      "text/plain": "       Unnamed: 0  Months since Last Donation  Number of Donations  \\\ncount  576.000000                  576.000000           576.000000   \nmean   374.034722                    9.439236             5.427083   \nstd    216.947773                    8.175454             5.740010   \nmin      0.000000                    0.000000             1.000000   \n25%    183.750000                    2.000000             2.000000   \n50%    375.500000                    7.000000             4.000000   \n75%    562.500000                   14.000000             7.000000   \nmax    747.000000                   74.000000            50.000000   \n\n       Total Volume Donated (c.c.)  Months since First Donation  \\\ncount                   576.000000                   576.000000   \nmean                   1356.770833                    34.050347   \nstd                    1435.002556                    24.227672   \nmin                     250.000000                     2.000000   \n25%                     500.000000                    16.000000   \n50%                    1000.000000                    28.000000   \n75%                    1750.000000                    49.250000   \nmax                   12500.000000                    98.000000   \n\n       Made Donation in March 2007  \ncount                   576.000000  \nmean                      0.239583  \nstd                       0.427200  \nmin                       0.000000  \n25%                       0.000000  \n50%                       0.000000  \n75%                       0.000000  \nmax                       1.000000  ",
      "text/html": "<div>\n<style scoped>\n    .dataframe tbody tr th:only-of-type {\n        vertical-align: middle;\n    }\n\n    .dataframe tbody tr th {\n        vertical-align: top;\n    }\n\n    .dataframe thead th {\n        text-align: right;\n    }\n</style>\n<table border=\"1\" class=\"dataframe\">\n  <thead>\n    <tr style=\"text-align: right;\">\n      <th></th>\n      <th>Unnamed: 0</th>\n      <th>Months since Last Donation</th>\n      <th>Number of Donations</th>\n      <th>Total Volume Donated (c.c.)</th>\n      <th>Months since First Donation</th>\n      <th>Made Donation in March 2007</th>\n    </tr>\n  </thead>\n  <tbody>\n    <tr>\n      <th>count</th>\n      <td>576.000000</td>\n      <td>576.000000</td>\n      <td>576.000000</td>\n      <td>576.000000</td>\n      <td>576.000000</td>\n      <td>576.000000</td>\n    </tr>\n    <tr>\n      <th>mean</th>\n      <td>374.034722</td>\n      <td>9.439236</td>\n      <td>5.427083</td>\n      <td>1356.770833</td>\n      <td>34.050347</td>\n      <td>0.239583</td>\n    </tr>\n    <tr>\n      <th>std</th>\n      <td>216.947773</td>\n      <td>8.175454</td>\n      <td>5.740010</td>\n      <td>1435.002556</td>\n      <td>24.227672</td>\n      <td>0.427200</td>\n    </tr>\n    <tr>\n      <th>min</th>\n      <td>0.000000</td>\n      <td>0.000000</td>\n      <td>1.000000</td>\n      <td>250.000000</td>\n      <td>2.000000</td>\n      <td>0.000000</td>\n    </tr>\n    <tr>\n      <th>25%</th>\n      <td>183.750000</td>\n      <td>2.000000</td>\n      <td>2.000000</td>\n      <td>500.000000</td>\n      <td>16.000000</td>\n      <td>0.000000</td>\n    </tr>\n    <tr>\n      <th>50%</th>\n      <td>375.500000</td>\n      <td>7.000000</td>\n      <td>4.000000</td>\n      <td>1000.000000</td>\n      <td>28.000000</td>\n      <td>0.000000</td>\n    </tr>\n    <tr>\n      <th>75%</th>\n      <td>562.500000</td>\n      <td>14.000000</td>\n      <td>7.000000</td>\n      <td>1750.000000</td>\n      <td>49.250000</td>\n      <td>0.000000</td>\n    </tr>\n    <tr>\n      <th>max</th>\n      <td>747.000000</td>\n      <td>74.000000</td>\n      <td>50.000000</td>\n      <td>12500.000000</td>\n      <td>98.000000</td>\n      <td>1.000000</td>\n    </tr>\n  </tbody>\n</table>\n</div>"
     },
     "metadata": {},
     "output_type": "execute_result",
     "execution_count": 6
    }
   ],
   "source": [
    "data.describe()"
   ],
   "metadata": {
    "collapsed": false,
    "pycharm": {
     "name": "#%%\n",
     "is_executing": false
    }
   }
  },
  {
   "cell_type": "code",
   "execution_count": 7,
   "outputs": [
    {
     "data": {
      "text/plain": "       Unnamed: 0  Months since Last Donation  Number of Donations  \\\ncount  200.000000                   200.00000           200.000000   \nmean   374.565000                     9.49500             5.935000   \nstd    211.138231                     7.61907             6.125224   \nmin      1.000000                     0.00000             1.000000   \n25%    198.250000                     4.00000             2.000000   \n50%    377.500000                     7.00000             4.000000   \n75%    537.000000                    14.00000             8.000000   \nmax    745.000000                    40.00000            41.000000   \n\n       Total Volume Donated (c.c.)  Months since First Donation  \ncount                   200.000000                   200.000000  \nmean                   1483.750000                    35.475000  \nstd                    1531.305955                    25.111197  \nmin                     250.000000                     2.000000  \n25%                     500.000000                    14.000000  \n50%                    1000.000000                    31.000000  \n75%                    2000.000000                    52.000000  \nmax                   10250.000000                    98.000000  ",
      "text/html": "<div>\n<style scoped>\n    .dataframe tbody tr th:only-of-type {\n        vertical-align: middle;\n    }\n\n    .dataframe tbody tr th {\n        vertical-align: top;\n    }\n\n    .dataframe thead th {\n        text-align: right;\n    }\n</style>\n<table border=\"1\" class=\"dataframe\">\n  <thead>\n    <tr style=\"text-align: right;\">\n      <th></th>\n      <th>Unnamed: 0</th>\n      <th>Months since Last Donation</th>\n      <th>Number of Donations</th>\n      <th>Total Volume Donated (c.c.)</th>\n      <th>Months since First Donation</th>\n    </tr>\n  </thead>\n  <tbody>\n    <tr>\n      <th>count</th>\n      <td>200.000000</td>\n      <td>200.00000</td>\n      <td>200.000000</td>\n      <td>200.000000</td>\n      <td>200.000000</td>\n    </tr>\n    <tr>\n      <th>mean</th>\n      <td>374.565000</td>\n      <td>9.49500</td>\n      <td>5.935000</td>\n      <td>1483.750000</td>\n      <td>35.475000</td>\n    </tr>\n    <tr>\n      <th>std</th>\n      <td>211.138231</td>\n      <td>7.61907</td>\n      <td>6.125224</td>\n      <td>1531.305955</td>\n      <td>25.111197</td>\n    </tr>\n    <tr>\n      <th>min</th>\n      <td>1.000000</td>\n      <td>0.00000</td>\n      <td>1.000000</td>\n      <td>250.000000</td>\n      <td>2.000000</td>\n    </tr>\n    <tr>\n      <th>25%</th>\n      <td>198.250000</td>\n      <td>4.00000</td>\n      <td>2.000000</td>\n      <td>500.000000</td>\n      <td>14.000000</td>\n    </tr>\n    <tr>\n      <th>50%</th>\n      <td>377.500000</td>\n      <td>7.00000</td>\n      <td>4.000000</td>\n      <td>1000.000000</td>\n      <td>31.000000</td>\n    </tr>\n    <tr>\n      <th>75%</th>\n      <td>537.000000</td>\n      <td>14.00000</td>\n      <td>8.000000</td>\n      <td>2000.000000</td>\n      <td>52.000000</td>\n    </tr>\n    <tr>\n      <th>max</th>\n      <td>745.000000</td>\n      <td>40.00000</td>\n      <td>41.000000</td>\n      <td>10250.000000</td>\n      <td>98.000000</td>\n    </tr>\n  </tbody>\n</table>\n</div>"
     },
     "metadata": {},
     "output_type": "execute_result",
     "execution_count": 7
    }
   ],
   "source": [
    "test.describe()"
   ],
   "metadata": {
    "collapsed": false,
    "pycharm": {
     "name": "#%%\n",
     "is_executing": false
    }
   }
  },
  {
   "cell_type": "markdown",
   "source": [
    "# Data Preprocessing"
   ],
   "metadata": {
    "collapsed": false,
    "pycharm": {
     "name": "#%% md\n",
     "is_executing": false
    }
   }
  },
  {
   "cell_type": "code",
   "execution_count": 8,
   "outputs": [],
   "source": [
    "X_train = data.iloc[:,[1,2,3,4]].values\n",
    "y_train = data.iloc[:,-1].values\n",
    "\n"
   ],
   "metadata": {
    "collapsed": false,
    "pycharm": {
     "name": "#%%\n",
     "is_executing": false
    }
   }
  },
  {
   "cell_type": "code",
   "execution_count": 9,
   "outputs": [
    {
     "data": {
      "text/plain": "(array([[    2,    50, 12500,    98],\n        [    0,    13,  3250,    28],\n        [    1,    16,  4000,    35],\n        ...,\n        [   21,     2,   500,    52],\n        [   39,     1,   250,    39],\n        [   72,     1,   250,    72]], dtype=int64),\n array([1, 1, 1, 1, 0, 0, 1, 0, 1, 0, 1, 0, 1, 1, 1, 1, 1, 1, 1, 0, 1, 1,\n        0, 0, 0, 0, 1, 1, 0, 1, 1, 1, 1, 1, 0, 1, 0, 1, 1, 0, 0, 0, 0, 0,\n        1, 0, 1, 1, 1, 1, 0, 1, 1, 0, 1, 0, 0, 0, 0, 0, 1, 0, 1, 1, 1, 0,\n        0, 0, 0, 0, 1, 0, 0, 0, 1, 1, 0, 0, 0, 0, 1, 1, 0, 0, 0, 0, 0, 0,\n        0, 0, 1, 0, 0, 1, 0, 0, 1, 1, 1, 1, 1, 0, 0, 1, 1, 1, 0, 0, 0, 0,\n        0, 0, 0, 0, 0, 0, 1, 0, 0, 1, 0, 1, 1, 0, 0, 0, 0, 0, 0, 0, 1, 1,\n        1, 0, 0, 0, 0, 0, 0, 0, 0, 0, 1, 1, 0, 1, 0, 0, 0, 0, 0, 1, 0, 0,\n        0, 1, 1, 0, 0, 0, 0, 1, 0, 0, 0, 0, 0, 0, 0, 0, 1, 0, 0, 0, 0, 1,\n        0, 0, 0, 0, 0, 0, 0, 0, 0, 0, 0, 1, 0, 1, 1, 0, 0, 0, 0, 0, 0, 1,\n        1, 0, 0, 0, 0, 0, 0, 0, 1, 0, 1, 0, 0, 0, 0, 0, 0, 0, 0, 0, 0, 0,\n        0, 0, 0, 1, 0, 0, 0, 0, 1, 0, 0, 0, 0, 0, 0, 0, 0, 0, 1, 0, 0, 0,\n        0, 0, 0, 0, 0, 0, 1, 0, 1, 1, 0, 0, 0, 1, 0, 0, 1, 0, 1, 0, 0, 0,\n        0, 0, 0, 0, 0, 0, 0, 0, 0, 0, 0, 0, 0, 0, 0, 0, 1, 0, 0, 0, 1, 1,\n        0, 1, 0, 0, 0, 0, 0, 0, 0, 0, 0, 0, 0, 0, 0, 0, 0, 0, 1, 0, 0, 1,\n        0, 0, 0, 0, 0, 0, 0, 0, 0, 0, 0, 0, 0, 0, 0, 0, 0, 0, 0, 0, 0, 0,\n        0, 0, 0, 1, 0, 0, 0, 0, 0, 0, 0, 0, 0, 0, 0, 0, 0, 0, 0, 0, 0, 0,\n        0, 0, 0, 1, 0, 0, 0, 0, 0, 1, 0, 0, 0, 0, 0, 0, 1, 0, 0, 0, 0, 0,\n        0, 0, 0, 0, 0, 0, 0, 0, 0, 0, 0, 0, 1, 1, 0, 0, 1, 1, 0, 0, 0, 0,\n        1, 1, 1, 1, 1, 1, 1, 1, 0, 1, 1, 1, 1, 0, 0, 1, 1, 1, 1, 1, 1, 1,\n        0, 0, 1, 1, 0, 1, 0, 0, 0, 0, 0, 0, 0, 0, 1, 0, 0, 0, 1, 0, 0, 0,\n        1, 1, 0, 0, 0, 0, 1, 0, 0, 0, 0, 0, 0, 0, 0, 1, 0, 1, 0, 0, 0, 0,\n        0, 0, 0, 0, 0, 0, 0, 0, 0, 0, 0, 0, 0, 1, 0, 1, 0, 0, 0, 0, 0, 0,\n        0, 0, 0, 0, 1, 0, 0, 0, 1, 0, 0, 0, 0, 0, 0, 0, 0, 0, 0, 0, 0, 0,\n        0, 0, 0, 0, 0, 0, 0, 0, 1, 1, 0, 0, 0, 0, 0, 0, 0, 0, 0, 1, 0, 0,\n        0, 0, 0, 0, 0, 0, 0, 0, 1, 0, 0, 0, 0, 0, 0, 0, 0, 0, 0, 0, 0, 0,\n        1, 0, 0, 0, 0, 0, 0, 0, 0, 0, 0, 0, 0, 0, 0, 0, 1, 0, 0, 0, 0, 0,\n        0, 0, 0, 0], dtype=int64))"
     },
     "metadata": {},
     "output_type": "execute_result",
     "execution_count": 9
    }
   ],
   "source": [
    "X_train, y_train"
   ],
   "metadata": {
    "collapsed": false,
    "pycharm": {
     "name": "#%%\n",
     "is_executing": false
    }
   }
  },
  {
   "cell_type": "code",
   "execution_count": 10,
   "outputs": [],
   "source": [
    "X_test = test.iloc[:,[1,2,3,4]].values"
   ],
   "metadata": {
    "collapsed": false,
    "pycharm": {
     "name": "#%%\n",
     "is_executing": false
    }
   }
  },
  {
   "cell_type": "code",
   "execution_count": 11,
   "outputs": [],
   "source": [
    "from sklearn.preprocessing import StandardScaler\n",
    "Scaler = StandardScaler()\n",
    "X_train = Scaler.fit_transform(X_train)\n",
    "\n",
    "X_test = Scaler.fit_transform(X_test)"
   ],
   "metadata": {
    "collapsed": false,
    "pycharm": {
     "name": "#%%\n",
     "is_executing": false
    }
   }
  },
  {
   "cell_type": "code",
   "execution_count": 12,
   "outputs": [],
   "source": [
    "from sklearn import linear_model\n",
    "from sklearn.metrics import roc_auc_score\n",
    "\n",
    "def auc(variables, target, basetable):\n",
    "    X = basetable[variables]\n",
    "    y = basetable[target]\n",
    "    \n",
    "    logreg = linear_model.LogisticRegression()\n",
    "    logreg.fit(X, y)\n",
    "    predictions = logreg.predict_proba(X)[:,1]\n",
    "    \n",
    "    auc = roc_auc_score(y, predictions)\n",
    "    \n",
    "    return(auc)"
   ],
   "metadata": {
    "collapsed": false,
    "pycharm": {
     "name": "#%%\n",
     "is_executing": false
    }
   }
  },
  {
   "cell_type": "code",
   "execution_count": 13,
   "outputs": [],
   "source": [
    "def next_best(current_variables,candidate_variables, target, basetable):\n",
    "    best_auc = -1\n",
    "    best_variable = None\n",
    "    \n",
    "    for v in candidate_variables:\n",
    "        auc_v = auc(current_variables + [v], target, basetable)\n",
    "        if auc_v >= best_auc:\n",
    "            best_auc = auc_v\n",
    "            best_variable = v\n",
    "    return best_variable"
   ],
   "metadata": {
    "collapsed": false,
    "pycharm": {
     "name": "#%%\n",
     "is_executing": false
    }
   }
  },
  {
   "cell_type": "code",
   "execution_count": 14,
   "outputs": [],
   "source": [
    "from sklearn.linear_model import LogisticRegression"
   ],
   "metadata": {
    "collapsed": false,
    "pycharm": {
     "name": "#%%\n",
     "is_executing": false
    }
   }
  },
  {
   "cell_type": "code",
   "execution_count": 15,
   "outputs": [
    {
     "data": {
      "text/plain": "LogisticRegression(C=1.0, class_weight=None, dual=False, fit_intercept=True,\n                   intercept_scaling=1, l1_ratio=None, max_iter=100,\n                   multi_class='auto', n_jobs=None, penalty='l2',\n                   random_state=None, solver='lbfgs', tol=0.0001, verbose=0,\n                   warm_start=False)"
     },
     "metadata": {},
     "output_type": "execute_result",
     "execution_count": 15
    }
   ],
   "source": [
    "logreg = LogisticRegression()\n",
    "\n",
    "logreg.fit(X_train, y_train)"
   ],
   "metadata": {
    "collapsed": false,
    "pycharm": {
     "name": "#%%\n",
     "is_executing": false
    }
   }
  },
  {
   "cell_type": "code",
   "execution_count": 16,
   "outputs": [],
   "source": [
    "predictions = logreg.predict_proba(X_test)"
   ],
   "metadata": {
    "collapsed": false,
    "pycharm": {
     "name": "#%%\n",
     "is_executing": false
    }
   }
  },
  {
   "cell_type": "code",
   "execution_count": 17,
   "outputs": [],
   "source": [
    "predictions_target = predictions[:,1]"
   ],
   "metadata": {
    "collapsed": false,
    "pycharm": {
     "name": "#%%\n",
     "is_executing": false
    }
   }
  },
  {
   "cell_type": "code",
   "execution_count": 18,
   "outputs": [
    {
     "data": {
      "text/plain": "0.7604166666666666"
     },
     "metadata": {},
     "output_type": "execute_result",
     "execution_count": 18
    }
   ],
   "source": [
    "score = logreg.score(X_train,y_train )\n",
    "score"
   ],
   "metadata": {
    "collapsed": false,
    "pycharm": {
     "name": "#%%\n",
     "is_executing": false
    }
   }
  },
  {
   "cell_type": "markdown",
   "source": [
    "# Påbegynder AUC training og Curve"
   ],
   "metadata": {
    "collapsed": false,
    "pycharm": {
     "name": "#%% md\n"
    }
   }
  },
  {
   "cell_type": "code",
   "execution_count": 19,
   "outputs": [],
   "source": [
    "from sklearn.metrics import roc_auc_score as ras"
   ],
   "metadata": {
    "collapsed": false,
    "pycharm": {
     "name": "#%%\n",
     "is_executing": false
    }
   }
  },
  {
   "cell_type": "code",
   "execution_count": 20,
   "outputs": [],
   "source": [
    "auc = ras(y_train[:200], predictions_target)"
   ],
   "metadata": {
    "collapsed": false,
    "pycharm": {
     "name": "#%%\n",
     "is_executing": false
    }
   }
  },
  {
   "cell_type": "code",
   "execution_count": 22,
   "outputs": [
    {
     "name": "stdout",
     "text": [
      "0.45484770484770487\n"
     ],
     "output_type": "stream"
    }
   ],
   "source": [
    "print (auc)"
   ],
   "metadata": {
    "collapsed": false,
    "pycharm": {
     "name": "#%%\n",
     "is_executing": false
    }
   }
  },
  {
   "cell_type": "code",
   "execution_count": null,
   "outputs": [],
   "source": [
    "\n"
   ],
   "metadata": {
    "collapsed": false,
    "pycharm": {
     "name": "#%%\n"
    }
   }
  }
 ],
 "metadata": {
  "kernelspec": {
   "display_name": "Python 3",
   "language": "python",
   "name": "python3"
  },
  "language_info": {
   "codemirror_mode": {
    "name": "ipython",
    "version": 2
   },
   "file_extension": ".py",
   "mimetype": "text/x-python",
   "name": "python",
   "nbconvert_exporter": "python",
   "pygments_lexer": "ipython2",
   "version": "2.7.6"
  },
  "pycharm": {
   "stem_cell": {
    "cell_type": "raw",
    "source": [],
    "metadata": {
     "collapsed": false
    }
   }
  }
 },
 "nbformat": 4,
 "nbformat_minor": 0
}