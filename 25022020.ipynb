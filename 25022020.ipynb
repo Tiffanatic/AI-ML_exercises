{
 "cells": [
  {
   "cell_type": "markdown",
   "metadata": {},
   "source": [
    "Opgave1 :\n",
    "\n",
    "1. Vurder datasættet fra rainforrest, beslut om du vil fjerne kolonner eller impute værdier, eller en blanding. Lad os se, hvad der giver det bedste resultat.\n",
    "\n",
    "2. Del sættet op i samples og labels, så du har et datasæt, som kun består af talværdier for de enkelte træsorter.\n",
    "\n",
    "3. Udfør en clustering med KMeans\n",
    "\n",
    "a. Hvor mange clusters skal vi inddele den i?\n",
    "\n",
    "b. Hvordan finder vi et godt antal?\n",
    "\n",
    "4. Sammenhold wood mod branch i et scatterplot\n",
    "\n",
    "5. Udfør en cross tabulation\n",
    "\n",
    "a. Hvor gode er dine resultater?\n",
    "\n",
    "6. Brug en StandardScaler og en Pipeline til at få bedre resultater\n",
    "\n",
    "a. Test igen med cross tabulation\n",
    "\n",
    "7. Check for intrinsic dimensions\n",
    "\n",
    "a. Lav en dimensionality reduction der svarer til bedste bud\n",
    "\n",
    "b. Blev dine resultater bedre?"
   ]
  },
  {
   "cell_type": "code",
   "execution_count": 1,
   "metadata": {
    "pycharm": {
     "is_executing": false
    }
   },
   "outputs": [],
   "source": [
    "import pandas as pd"
   ]
  },
  {
   "cell_type": "code",
   "execution_count": 2,
   "metadata": {
    "pycharm": {
     "is_executing": false
    }
   },
   "outputs": [],
   "source": [
    "import numpy as np"
   ]
  },
  {
   "cell_type": "code",
   "execution_count": 3,
   "outputs": [],
   "source": [
    "from sklearn.impute import SimpleImputer"
   ],
   "metadata": {
    "collapsed": false,
    "pycharm": {
     "name": "#%%\n",
     "is_executing": false
    }
   }
  },
  {
   "cell_type": "code",
   "execution_count": 4,
   "metadata": {
    "pycharm": {
     "is_executing": false
    }
   },
   "outputs": [],
   "source": [
    "data = pd.read_csv('input/rainforest.csv')\n",
    "org_data = data"
   ]
  },
  {
   "cell_type": "code",
   "execution_count": 5,
   "metadata": {
    "pycharm": {
     "is_executing": false
    }
   },
   "outputs": [],
   "source": [
    "data = data.drop(['Unnamed: 0', 'bark'], axis=1)"
   ]
  },
  {
   "cell_type": "code",
   "execution_count": 6,
   "metadata": {
    "pycharm": {
     "is_executing": false
    }
   },
   "outputs": [
    {
     "data": {
      "text/plain": "   dbh   wood   root  rootsk  branch          species\n0    6    NaN    6.0     0.3     NaN  Acacia mabellae\n1   23  353.0  135.0    13.0    35.0  Acacia mabellae\n2   20  208.0    NaN     NaN    41.0  Acacia mabellae\n3   23  445.0    NaN     NaN    50.0  Acacia mabellae\n4   24  590.0    NaN     NaN     NaN  Acacia mabellae",
      "text/html": "<div>\n<style scoped>\n    .dataframe tbody tr th:only-of-type {\n        vertical-align: middle;\n    }\n\n    .dataframe tbody tr th {\n        vertical-align: top;\n    }\n\n    .dataframe thead th {\n        text-align: right;\n    }\n</style>\n<table border=\"1\" class=\"dataframe\">\n  <thead>\n    <tr style=\"text-align: right;\">\n      <th></th>\n      <th>dbh</th>\n      <th>wood</th>\n      <th>root</th>\n      <th>rootsk</th>\n      <th>branch</th>\n      <th>species</th>\n    </tr>\n  </thead>\n  <tbody>\n    <tr>\n      <th>0</th>\n      <td>6</td>\n      <td>NaN</td>\n      <td>6.0</td>\n      <td>0.3</td>\n      <td>NaN</td>\n      <td>Acacia mabellae</td>\n    </tr>\n    <tr>\n      <th>1</th>\n      <td>23</td>\n      <td>353.0</td>\n      <td>135.0</td>\n      <td>13.0</td>\n      <td>35.0</td>\n      <td>Acacia mabellae</td>\n    </tr>\n    <tr>\n      <th>2</th>\n      <td>20</td>\n      <td>208.0</td>\n      <td>NaN</td>\n      <td>NaN</td>\n      <td>41.0</td>\n      <td>Acacia mabellae</td>\n    </tr>\n    <tr>\n      <th>3</th>\n      <td>23</td>\n      <td>445.0</td>\n      <td>NaN</td>\n      <td>NaN</td>\n      <td>50.0</td>\n      <td>Acacia mabellae</td>\n    </tr>\n    <tr>\n      <th>4</th>\n      <td>24</td>\n      <td>590.0</td>\n      <td>NaN</td>\n      <td>NaN</td>\n      <td>NaN</td>\n      <td>Acacia mabellae</td>\n    </tr>\n  </tbody>\n</table>\n</div>"
     },
     "metadata": {},
     "output_type": "execute_result",
     "execution_count": 6
    }
   ],
   "source": [
    "data.head()"
   ]
  },
  {
   "cell_type": "code",
   "execution_count": 7,
   "metadata": {
    "pycharm": {
     "name": "#%%\n",
     "is_executing": false
    }
   },
   "outputs": [
    {
     "name": "stdout",
     "text": [
      "<class 'pandas.core.frame.DataFrame'>\n",
      "RangeIndex: 65 entries, 0 to 64\n",
      "Data columns (total 6 columns):\n",
      " #   Column   Non-Null Count  Dtype  \n",
      "---  ------   --------------  -----  \n",
      " 0   dbh      65 non-null     int64  \n",
      " 1   wood     64 non-null     float64\n",
      " 2   root     13 non-null     float64\n",
      " 3   rootsk   13 non-null     float64\n",
      " 4   branch   43 non-null     float64\n",
      " 5   species  65 non-null     object \n",
      "dtypes: float64(4), int64(1), object(1)\n",
      "memory usage: 2.9+ KB\n"
     ],
     "output_type": "stream"
    }
   ],
   "source": [
    "imp = SimpleImputer(missing_values=np.nan)\n",
    "data.info()\n",
    "y = data['species'].values\n",
    "X = data.drop('species', axis=1).values"
   ]
  },
  {
   "cell_type": "code",
   "execution_count": 8,
   "outputs": [],
   "source": [
    "imp.fit(X)\n",
    "X = imp.transform(X)"
   ],
   "metadata": {
    "collapsed": false,
    "pycharm": {
     "name": "#%%\n",
     "is_executing": false
    }
   }
  },
  {
   "cell_type": "code",
   "execution_count": 8,
   "outputs": [],
   "source": [],
   "metadata": {
    "collapsed": false,
    "pycharm": {
     "name": "#%%\n",
     "is_executing": false
    }
   }
  },
  {
   "cell_type": "code",
   "execution_count": 9,
   "outputs": [],
   "source": [
    "from sklearn.cluster import KMeans\n",
    "from sklearn.model_selection import train_test_split\n",
    "import matplotlib.pyplot as plt"
   ],
   "metadata": {
    "collapsed": false,
    "pycharm": {
     "name": "#%%\n",
     "is_executing": false
    }
   }
  },
  {
   "cell_type": "code",
   "execution_count": 10,
   "outputs": [
    {
     "data": {
      "text/plain": "KMeans(algorithm='auto', copy_x=True, init='k-means++', max_iter=300,\n       n_clusters=5, n_init=10, n_jobs=None, precompute_distances='auto',\n       random_state=None, tol=0.0001, verbose=0)"
     },
     "metadata": {},
     "output_type": "execute_result",
     "execution_count": 10
    }
   ],
   "source": [
    "model = KMeans(n_clusters=5)\n",
    "X_train, X_test, y_train, y_test = train_test_split(X, y, test_size=0.3, random_state=42)\n",
    "model.fit(X_train, y_train)"
   ],
   "metadata": {
    "collapsed": false,
    "pycharm": {
     "name": "#%%\n",
     "is_executing": false
    }
   }
  },
  {
   "cell_type": "code",
   "execution_count": 11,
   "outputs": [
    {
     "name": "stdout",
     "text": [
      "[2 3 0 1 2 3 2 2 4 1 3 2 2 2 0 2 3 2 2 2]\n"
     ],
     "output_type": "stream"
    }
   ],
   "source": [
    "labels = model.predict(X_test)\n",
    "\n",
    "print(labels)\n"
   ],
   "metadata": {
    "collapsed": false,
    "pycharm": {
     "name": "#%%\n",
     "is_executing": false
    }
   }
  },
  {
   "cell_type": "code",
   "execution_count": 12,
   "outputs": [
    {
     "data": {
      "text/plain": "<Figure size 432x288 with 1 Axes>",
      "image/png": "[encoded data removed]"
     },
     "metadata": {
      "needs_background": "light"
     },
     "output_type": "display_data"
    }
   ],
   "source": [
    "xs = X_test[:,1]\n",
    "ys = X_test[:,4]\n",
    "\n",
    "plt.scatter(xs, ys, alpha=0.5)\n",
    "plt.show() "
   ],
   "metadata": {
    "collapsed": false,
    "pycharm": {
     "name": "#%%\n",
     "is_executing": false
    }
   }
  },
  {
   "cell_type": "code",
   "execution_count": 13,
   "outputs": [],
   "source": [
    "from sklearn.model_selection import cross_val_score\n",
    "from sklearn.linear_model import LinearRegression\n",
    "\n",
    "data = data.drop('species', axis=1)\n",
    "reg = LinearRegression()"
   ],
   "metadata": {
    "collapsed": false,
    "pycharm": {
     "name": "#%%\n",
     "is_executing": false
    }
   }
  },
  {
   "cell_type": "code",
   "execution_count": 14,
   "outputs": [],
   "source": [
    "target = pd.factorize(y)\n",
    "cv_scores = cross_val_score(model, X, target[0], cv=5)"
   ],
   "metadata": {
    "collapsed": false,
    "pycharm": {
     "name": "#%%\n",
     "is_executing": false
    }
   }
  },
  {
   "cell_type": "code",
   "execution_count": 15,
   "outputs": [
    {
     "name": "stdout",
     "text": [
      "[ -56602.87116588  -67600.50975681 -135199.29181488 -105766.74313037\n",
      "  -88344.60922554]\n"
     ],
     "output_type": "stream"
    }
   ],
   "source": [
    "print(cv_scores)"
   ],
   "metadata": {
    "collapsed": false,
    "pycharm": {
     "name": "#%%\n",
     "is_executing": false
    }
   }
  },
  {
   "cell_type": "code",
   "execution_count": 16,
   "outputs": [
    {
     "name": "stdout",
     "text": [
      "Average scores: -90702.80501869784\n"
     ],
     "output_type": "stream"
    }
   ],
   "source": [
    "print(\"Average scores: {}\".format(np.mean(cv_scores)))\n"
   ],
   "metadata": {
    "collapsed": false,
    "pycharm": {
     "name": "#%%\n",
     "is_executing": false
    }
   }
  },
  {
   "cell_type": "code",
   "execution_count": 17,
   "outputs": [],
   "source": [
    "from sklearn.preprocessing import StandardScaler\n",
    "from sklearn.neighbors import KNeighborsClassifier\n",
    "from sklearn.pipeline import Pipeline"
   ],
   "metadata": {
    "collapsed": false,
    "pycharm": {
     "name": "#%%\n",
     "is_executing": false
    }
   }
  },
  {
   "cell_type": "code",
   "execution_count": 18,
   "outputs": [],
   "source": [
    "Scaler = StandardScaler()\n",
    "\n",
    "steps = [('scaler', StandardScaler()),\n",
    "        ('KMeans', KMeans(n_clusters=5))]\n",
    "\n",
    "pipeline = Pipeline(steps)\n",
    "\n",
    "km_scaled = pipeline.fit(X_train, y_train)"
   ],
   "metadata": {
    "collapsed": false,
    "pycharm": {
     "name": "#%%\n",
     "is_executing": false
    }
   }
  },
  {
   "cell_type": "code",
   "execution_count": 19,
   "outputs": [],
   "source": [
    "labels2 = km_scaled.predict(X_test)"
   ],
   "metadata": {
    "collapsed": false,
    "pycharm": {
     "name": "#%%\n",
     "is_executing": false
    }
   }
  },
  {
   "cell_type": "code",
   "execution_count": 20,
   "outputs": [
    {
     "name": "stdout",
     "text": [
      "[-131.62813264  -54.88471082  -11.73654261  -31.63590475  -14.10646424]\n"
     ],
     "output_type": "stream"
    }
   ],
   "source": [
    "cv_scaled = cross_val_score(km_scaled, X, target[0], cv=5)\n",
    "print(cv_scaled)"
   ],
   "metadata": {
    "collapsed": false,
    "pycharm": {
     "name": "#%%\n",
     "is_executing": false
    }
   }
  },
  {
   "cell_type": "markdown",
   "source": [
    "7. Check for intrinsic dimensions\n",
    "\n",
    "a. Lav en dimensionality reduction der svarer til bedste bud\n",
    "\n",
    "b. Blev dine resultater bedre?"
   ],
   "metadata": {
    "collapsed": false
   }
  },
  {
   "cell_type": "code",
   "execution_count": 21,
   "outputs": [],
   "source": [
    "from sklearn.decomposition import PCA\n",
    "from sklearn.pipeline import make_pipeline"
   ],
   "metadata": {
    "collapsed": false,
    "pycharm": {
     "name": "#%%\n",
     "is_executing": false
    }
   }
  },
  {
   "cell_type": "code",
   "execution_count": 22,
   "outputs": [],
   "source": [
    "opg7scaler = StandardScaler()\n",
    "\n",
    "pca = PCA()\n",
    "\n",
    "opg7pipeline = make_pipeline(opg7scaler, pca)"
   ],
   "metadata": {
    "collapsed": false,
    "pycharm": {
     "name": "#%%\n",
     "is_executing": false
    }
   }
  },
  {
   "cell_type": "code",
   "execution_count": 23,
   "outputs": [],
   "source": [
    "opg7pipeline.fit(X)\n",
    "features = range(pca.n_components_)"
   ],
   "metadata": {
    "collapsed": false,
    "pycharm": {
     "name": "#%%\n",
     "is_executing": false
    }
   }
  },
  {
   "cell_type": "code",
   "execution_count": 24,
   "outputs": [
    {
     "data": {
      "text/plain": "<Figure size 432x288 with 1 Axes>",
      "image/png": "[encoded data removed]"
     },
     "metadata": {
      "needs_background": "light"
     },
     "output_type": "display_data"
    }
   ],
   "source": [
    "plt.bar(features, pca.explained_variance_)\n",
    "plt.xlabel('PCA feature')\n",
    "plt.ylabel('variance')\n",
    "plt.xticks(features)\n",
    "plt.show()\n"
   ],
   "metadata": {
    "collapsed": false,
    "pycharm": {
     "name": "#%%\n",
     "is_executing": false
    }
   }
  },
  {
   "cell_type": "code",
   "execution_count": 25,
   "outputs": [],
   "source": [
    "pca = PCA(n_components=2)\n",
    "pca.fit(X, y)\n",
    "pca_features = pca.transform(X)"
   ],
   "metadata": {
    "collapsed": false,
    "pycharm": {
     "name": "#%%\n",
     "is_executing": false
    }
   }
  },
  {
   "cell_type": "code",
   "execution_count": 26,
   "outputs": [
    {
     "name": "stdout",
     "text": [
      "(65, 2)\n"
     ],
     "output_type": "stream"
    }
   ],
   "source": [
    "print(pca_features.shape)"
   ],
   "metadata": {
    "collapsed": false,
    "pycharm": {
     "name": "#%%\n",
     "is_executing": false
    }
   }
  },
  {
   "cell_type": "code",
   "execution_count": 27,
   "outputs": [
    {
     "name": "stdout",
     "text": [
      "[-17.35314474 -11.26442616 -10.90533978 -12.22677132 -11.24939007]\n"
     ],
     "output_type": "stream"
    }
   ],
   "source": [
    "cv_intrinsic = cross_val_score(pca, pca_features, target[0], cv=5)\n",
    "print(cv_intrinsic)"
   ],
   "metadata": {
    "collapsed": false,
    "pycharm": {
     "name": "#%%\n",
     "is_executing": false
    }
   }
  },
  {
   "cell_type": "code",
   "execution_count": 27,
   "outputs": [],
   "source": [
    "\n"
   ],
   "metadata": {
    "collapsed": false,
    "pycharm": {
     "name": "#%%\n",
     "is_executing": false
    }
   }
  }
 ],
 "metadata": {
  "kernelspec": {
   "display_name": "Python 3",
   "language": "python",
   "name": "python3"
  },
  "language_info": {
   "codemirror_mode": {
    "name": "ipython",
    "version": 3
   },
   "file_extension": ".py",
   "mimetype": "text/x-python",
   "name": "python",
   "nbconvert_exporter": "python",
   "pygments_lexer": "ipython3",
   "version": "3.7.4"
  },
  "pycharm": {
   "stem_cell": {
    "cell_type": "raw",
    "source": [],
    "metadata": {
     "collapsed": false
    }
   }
  }
 },
 "nbformat": 4,
 "nbformat_minor": 2
}