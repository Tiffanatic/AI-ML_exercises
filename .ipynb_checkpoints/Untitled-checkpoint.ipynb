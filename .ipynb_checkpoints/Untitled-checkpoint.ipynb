{
 "cells": [
  {
   "cell_type": "markdown",
   "metadata": {},
   "source": [
    "Opgave1 :\n",
    "\n",
    "1. Vurder datasættet fra rainforrest, beslut om du vil fjerne kolonner eller impute værdier, eller en blanding. Lad os se, hvad der giver det bedste resultat.\n",
    "\n",
    "2. Del sættet op i samples og labels, så du har et datasæt, som kun består af talværdier for de enkelte træsorter.\n",
    "\n",
    "3. Udfør en clustering med KMeans\n",
    "\n",
    "a. Hvor mange clusters skal vi inddele den i?\n",
    "\n",
    "b. Hvordan finder vi et godt antal?\n",
    "\n",
    "4. Sammenhold wood mod branch i et scatterplot\n",
    "\n",
    "5. Udfør en cross tabulation\n",
    "\n",
    "a. Hvor gode er dine resultater?\n",
    "\n",
    "6. Brug en StandardScaler og en Pipeline til at få bedre resultater\n",
    "\n",
    "a. Test igen med cross tabulation\n",
    "\n",
    "7. Check for intrinsic dimensions\n",
    "\n",
    "a. Lav en dimensionality reduction der svarer til bedste bud\n",
    "\n",
    "b. Blev dine resultater bedre?"
   ]
  },
  {
   "cell_type": "code",
   "execution_count": 2,
   "metadata": {},
   "outputs": [],
   "source": [
    "import pandas as pd"
   ]
  },
  {
   "cell_type": "code",
   "execution_count": 4,
   "metadata": {},
   "outputs": [],
   "source": [
    "import numpy as np"
   ]
  },
  {
   "cell_type": "code",
   "execution_count": 17,
   "metadata": {},
   "outputs": [],
   "source": [
    "data = pd.read_csv('rainforest.csv')"
   ]
  },
  {
   "cell_type": "code",
   "execution_count": 18,
   "metadata": {},
   "outputs": [],
   "source": [
    "data = data.drop(['Unnamed: 0', 'bark'], axis=1)"
   ]
  },
  {
   "cell_type": "code",
   "execution_count": 19,
   "metadata": {},
   "outputs": [
    {
     "data": {
      "text/html": [
       "<div>\n",
       "<style scoped>\n",
       "    .dataframe tbody tr th:only-of-type {\n",
       "        vertical-align: middle;\n",
       "    }\n",
       "\n",
       "    .dataframe tbody tr th {\n",
       "        vertical-align: top;\n",
       "    }\n",
       "\n",
       "    .dataframe thead th {\n",
       "        text-align: right;\n",
       "    }\n",
       "</style>\n",
       "<table border=\"1\" class=\"dataframe\">\n",
       "  <thead>\n",
       "    <tr style=\"text-align: right;\">\n",
       "      <th></th>\n",
       "      <th>dbh</th>\n",
       "      <th>wood</th>\n",
       "      <th>root</th>\n",
       "      <th>rootsk</th>\n",
       "      <th>branch</th>\n",
       "      <th>species</th>\n",
       "    </tr>\n",
       "  </thead>\n",
       "  <tbody>\n",
       "    <tr>\n",
       "      <td>0</td>\n",
       "      <td>6</td>\n",
       "      <td>NaN</td>\n",
       "      <td>6.0</td>\n",
       "      <td>0.3</td>\n",
       "      <td>NaN</td>\n",
       "      <td>Acacia mabellae</td>\n",
       "    </tr>\n",
       "    <tr>\n",
       "      <td>1</td>\n",
       "      <td>23</td>\n",
       "      <td>353.0</td>\n",
       "      <td>135.0</td>\n",
       "      <td>13.0</td>\n",
       "      <td>35.0</td>\n",
       "      <td>Acacia mabellae</td>\n",
       "    </tr>\n",
       "    <tr>\n",
       "      <td>2</td>\n",
       "      <td>20</td>\n",
       "      <td>208.0</td>\n",
       "      <td>NaN</td>\n",
       "      <td>NaN</td>\n",
       "      <td>41.0</td>\n",
       "      <td>Acacia mabellae</td>\n",
       "    </tr>\n",
       "    <tr>\n",
       "      <td>3</td>\n",
       "      <td>23</td>\n",
       "      <td>445.0</td>\n",
       "      <td>NaN</td>\n",
       "      <td>NaN</td>\n",
       "      <td>50.0</td>\n",
       "      <td>Acacia mabellae</td>\n",
       "    </tr>\n",
       "    <tr>\n",
       "      <td>4</td>\n",
       "      <td>24</td>\n",
       "      <td>590.0</td>\n",
       "      <td>NaN</td>\n",
       "      <td>NaN</td>\n",
       "      <td>NaN</td>\n",
       "      <td>Acacia mabellae</td>\n",
       "    </tr>\n",
       "  </tbody>\n",
       "</table>\n",
       "</div>"
      ],
      "text/plain": [
       "   dbh   wood   root  rootsk  branch          species\n",
       "0    6    NaN    6.0     0.3     NaN  Acacia mabellae\n",
       "1   23  353.0  135.0    13.0    35.0  Acacia mabellae\n",
       "2   20  208.0    NaN     NaN    41.0  Acacia mabellae\n",
       "3   23  445.0    NaN     NaN    50.0  Acacia mabellae\n",
       "4   24  590.0    NaN     NaN     NaN  Acacia mabellae"
      ]
     },
     "execution_count": 19,
     "metadata": {},
     "output_type": "execute_result"
    }
   ],
   "source": [
    "data.head()"
   ]
  },
  {
   "cell_type": "code",
   "execution_count": 12,
   "metadata": {},
   "outputs": [],
   "source": [
    "from sklearn.impute import SimpleImputer"
   ]
  },
  {
   "cell_type": "code",
   "execution_count": 20,
   "metadata": {},
   "outputs": [
    {
     "name": "stdout",
     "output_type": "stream",
     "text": [
      "<class 'pandas.core.frame.DataFrame'>\n",
      "RangeIndex: 65 entries, 0 to 64\n",
      "Data columns (total 6 columns):\n",
      "dbh        65 non-null int64\n",
      "wood       64 non-null float64\n",
      "root       13 non-null float64\n",
      "rootsk     13 non-null float64\n",
      "branch     43 non-null float64\n",
      "species    65 non-null object\n",
      "dtypes: float64(4), int64(1), object(1)\n",
      "memory usage: 3.2+ KB\n"
     ]
    }
   ],
   "source": [
    "data.info()"
   ]
  },
  {
   "cell_type": "code",
   "execution_count": null,
   "metadata": {},
   "outputs": [],
   "source": []
  }
 ],
 "metadata": {
  "kernelspec": {
   "display_name": "Python 3",
   "language": "python",
   "name": "python3"
  },
  "language_info": {
   "codemirror_mode": {
    "name": "ipython",
    "version": 3
   },
   "file_extension": ".py",
   "mimetype": "text/x-python",
   "name": "python",
   "nbconvert_exporter": "python",
   "pygments_lexer": "ipython3",
   "version": "3.7.4"
  }
 },
 "nbformat": 4,
 "nbformat_minor": 2
}
